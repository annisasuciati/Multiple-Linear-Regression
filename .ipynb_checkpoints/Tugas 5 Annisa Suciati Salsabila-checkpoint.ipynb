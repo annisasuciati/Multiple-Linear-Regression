{
 "cells": [
  {
   "cell_type": "markdown",
   "metadata": {
    "colab_type": "text",
    "id": "view-in-github"
   },
   "source": [
    "<a href=\"https://colab.research.google.com/github/rc-dbe/dti/blob/main/001_regression.ipynb\" target=\"_parent\"><img src=\"https://colab.research.google.com/assets/colab-badge.svg\" alt=\"Open In Colab\"/></a>"
   ]
  },
  {
   "cell_type": "markdown",
   "metadata": {
    "id": "Up2MQL0imvLy"
   },
   "source": [
    "*Data Science Course - Telkom Digital Talent Incubator*\n",
    "\n",
    "\n",
    "---\n",
    "\n",
    "\n"
   ]
  },
  {
   "cell_type": "markdown",
   "metadata": {
    "id": "COHOuO-aicds"
   },
   "source": [
    "# **Regression**\n",
    "Regression analysis is a basic method used in statistical analysis of data. It’s a statistical method which allows estimating the relationships among variables. One needs to identify dependent variable which will vary based on the value of the independent variable."
   ]
  },
  {
   "cell_type": "markdown",
   "metadata": {
    "id": "QSP92y6nj-j-"
   },
   "source": [
    "## **Multiple Linear Regression**"
   ]
  },
  {
   "cell_type": "code",
   "execution_count": 3,
   "metadata": {
    "id": "LEoeUm5R4yVu"
   },
   "outputs": [],
   "source": [
    "import pandas as pd\n",
    "import statsmodels.api as sm\n",
    "import seaborn as sns\n",
    "import matplotlib.pyplot as plt\n",
    "import warnings\n",
    "from sklearn import linear_model\n",
    "\n",
    "warnings.filterwarnings('ignore')\n",
    "plt.rcParams['figure.figsize'] = (7, 7)\n",
    "plt.style.use('ggplot')"
   ]
  },
  {
   "cell_type": "code",
   "execution_count": 4,
   "metadata": {
    "id": "azdlE-U75GBf",
    "scrolled": true
   },
   "outputs": [
    {
     "data": {
      "text/html": [
       "<div>\n",
       "<style scoped>\n",
       "    .dataframe tbody tr th:only-of-type {\n",
       "        vertical-align: middle;\n",
       "    }\n",
       "\n",
       "    .dataframe tbody tr th {\n",
       "        vertical-align: top;\n",
       "    }\n",
       "\n",
       "    .dataframe thead th {\n",
       "        text-align: right;\n",
       "    }\n",
       "</style>\n",
       "<table border=\"1\" class=\"dataframe\">\n",
       "  <thead>\n",
       "    <tr style=\"text-align: right;\">\n",
       "      <th></th>\n",
       "      <th>week</th>\n",
       "      <th>pie_sales</th>\n",
       "      <th>price</th>\n",
       "      <th>advertising</th>\n",
       "    </tr>\n",
       "  </thead>\n",
       "  <tbody>\n",
       "    <tr>\n",
       "      <th>0</th>\n",
       "      <td>1</td>\n",
       "      <td>350</td>\n",
       "      <td>5.5</td>\n",
       "      <td>3.3</td>\n",
       "    </tr>\n",
       "    <tr>\n",
       "      <th>1</th>\n",
       "      <td>2</td>\n",
       "      <td>460</td>\n",
       "      <td>7.5</td>\n",
       "      <td>3.3</td>\n",
       "    </tr>\n",
       "    <tr>\n",
       "      <th>2</th>\n",
       "      <td>3</td>\n",
       "      <td>350</td>\n",
       "      <td>8.0</td>\n",
       "      <td>3.0</td>\n",
       "    </tr>\n",
       "    <tr>\n",
       "      <th>3</th>\n",
       "      <td>4</td>\n",
       "      <td>430</td>\n",
       "      <td>8.0</td>\n",
       "      <td>4.5</td>\n",
       "    </tr>\n",
       "    <tr>\n",
       "      <th>4</th>\n",
       "      <td>5</td>\n",
       "      <td>350</td>\n",
       "      <td>6.8</td>\n",
       "      <td>3.0</td>\n",
       "    </tr>\n",
       "    <tr>\n",
       "      <th>5</th>\n",
       "      <td>6</td>\n",
       "      <td>380</td>\n",
       "      <td>7.5</td>\n",
       "      <td>4.0</td>\n",
       "    </tr>\n",
       "    <tr>\n",
       "      <th>6</th>\n",
       "      <td>7</td>\n",
       "      <td>430</td>\n",
       "      <td>4.5</td>\n",
       "      <td>3.0</td>\n",
       "    </tr>\n",
       "    <tr>\n",
       "      <th>7</th>\n",
       "      <td>8</td>\n",
       "      <td>470</td>\n",
       "      <td>6.4</td>\n",
       "      <td>3.7</td>\n",
       "    </tr>\n",
       "    <tr>\n",
       "      <th>8</th>\n",
       "      <td>9</td>\n",
       "      <td>450</td>\n",
       "      <td>7.0</td>\n",
       "      <td>3.5</td>\n",
       "    </tr>\n",
       "    <tr>\n",
       "      <th>9</th>\n",
       "      <td>10</td>\n",
       "      <td>490</td>\n",
       "      <td>5.0</td>\n",
       "      <td>4.0</td>\n",
       "    </tr>\n",
       "    <tr>\n",
       "      <th>10</th>\n",
       "      <td>11</td>\n",
       "      <td>340</td>\n",
       "      <td>7.2</td>\n",
       "      <td>3.5</td>\n",
       "    </tr>\n",
       "    <tr>\n",
       "      <th>11</th>\n",
       "      <td>12</td>\n",
       "      <td>300</td>\n",
       "      <td>7.9</td>\n",
       "      <td>3.2</td>\n",
       "    </tr>\n",
       "    <tr>\n",
       "      <th>12</th>\n",
       "      <td>13</td>\n",
       "      <td>440</td>\n",
       "      <td>5.9</td>\n",
       "      <td>4.0</td>\n",
       "    </tr>\n",
       "    <tr>\n",
       "      <th>13</th>\n",
       "      <td>14</td>\n",
       "      <td>450</td>\n",
       "      <td>5.0</td>\n",
       "      <td>3.5</td>\n",
       "    </tr>\n",
       "    <tr>\n",
       "      <th>14</th>\n",
       "      <td>15</td>\n",
       "      <td>300</td>\n",
       "      <td>7.0</td>\n",
       "      <td>2.7</td>\n",
       "    </tr>\n",
       "  </tbody>\n",
       "</table>\n",
       "</div>"
      ],
      "text/plain": [
       "    week  pie_sales  price  advertising\n",
       "0      1        350    5.5          3.3\n",
       "1      2        460    7.5          3.3\n",
       "2      3        350    8.0          3.0\n",
       "3      4        430    8.0          4.5\n",
       "4      5        350    6.8          3.0\n",
       "5      6        380    7.5          4.0\n",
       "6      7        430    4.5          3.0\n",
       "7      8        470    6.4          3.7\n",
       "8      9        450    7.0          3.5\n",
       "9     10        490    5.0          4.0\n",
       "10    11        340    7.2          3.5\n",
       "11    12        300    7.9          3.2\n",
       "12    13        440    5.9          4.0\n",
       "13    14        450    5.0          3.5\n",
       "14    15        300    7.0          2.7"
      ]
     },
     "execution_count": 4,
     "metadata": {},
     "output_type": "execute_result"
    }
   ],
   "source": [
    "# Import Dataset\n",
    "df_house = pd.read_csv('https://raw.githubusercontent.com/rc-dbe/dti/main/data/pie-sales.csv', sep =\";\")\n",
    "df_house"
   ]
  },
  {
   "cell_type": "markdown",
   "metadata": {},
   "source": [
    "## **Visualize the data using scatterplot**\n",
    "Pada bagian ini akan di visualiasiskan data atribut Price dan Advertising dengan atribut pie_sales"
   ]
  },
  {
   "cell_type": "code",
   "execution_count": 5,
   "metadata": {
    "id": "Kgg8yHL476GP"
   },
   "outputs": [
    {
     "data": {
      "text/plain": [
       "<matplotlib.axes._subplots.AxesSubplot at 0x21438da1160>"
      ]
     },
     "execution_count": 5,
     "metadata": {},
     "output_type": "execute_result"
    },
    {
     "data": {
      "image/png": "[encoded data removed]",
      "text/plain": [
       "<Figure size 432x288 with 1 Axes>"
      ]
     },
     "metadata": {
      "needs_background": "light"
     },
     "output_type": "display_data"
    }
   ],
   "source": [
    "# Price\n",
    "sns.scatterplot(x=\"price\", y=\"pie_sales\", data= df_house)"
   ]
  },
  {
   "cell_type": "code",
   "execution_count": 6,
   "metadata": {},
   "outputs": [
    {
     "data": {
      "text/plain": [
       "<matplotlib.axes._subplots.AxesSubplot at 0x214390eb080>"
      ]
     },
     "execution_count": 6,
     "metadata": {},
     "output_type": "execute_result"
    },
    {
     "data": {
      "image/png": "[encoded data removed]",
      "text/plain": [
       "<Figure size 432x288 with 1 Axes>"
      ]
     },
     "metadata": {
      "needs_background": "light"
     },
     "output_type": "display_data"
    }
   ],
   "source": [
    "# Advertising\n",
    "sns.scatterplot(x=\"advertising\", y=\"pie_sales\", data= df_house)"
   ]
  },
  {
   "cell_type": "markdown",
   "metadata": {},
   "source": [
    "## **Visualizing Linear Regression**\n",
    "Visualisasi ini akan menggambarkan pengaruh dari atribut Price dan Advertising terhadap atribut Pie_sales"
   ]
  },
  {
   "cell_type": "code",
   "execution_count": 7,
   "metadata": {},
   "outputs": [],
   "source": [
    "X = df_house[['price']]\n",
    "Y = df_house['pie_sales']\n",
    "Z = df_house[['advertising']]"
   ]
  },
  {
   "cell_type": "code",
   "execution_count": 8,
   "metadata": {},
   "outputs": [
    {
     "data": {
      "text/plain": [
       "LinearRegression(copy_X=True, fit_intercept=True, n_jobs=None,\n",
       "         normalize=False)"
      ]
     },
     "execution_count": 8,
     "metadata": {},
     "output_type": "execute_result"
    }
   ],
   "source": [
    "regr = linear_model.LinearRegression()\n",
    "regr.fit(X, Y)"
   ]
  },
  {
   "cell_type": "code",
   "execution_count": 9,
   "metadata": {
    "id": "C5N0fGM28MH-"
   },
   "outputs": [
    {
     "data": {
      "image/png": "[encoded data removed]",
      "text/plain": [
       "<Figure size 432x288 with 1 Axes>"
      ]
     },
     "metadata": {
      "needs_background": "light"
     },
     "output_type": "display_data"
    }
   ],
   "source": [
    "# Price\n",
    "plt.scatter(X, Y)\n",
    "plt.plot(X, regr.predict(X), color = \"green\")\n",
    "plt.xlabel(\"price\")\n",
    "plt.ylabel(\"pie_sales\")\n",
    "plt.show()"
   ]
  },
  {
   "cell_type": "markdown",
   "metadata": {},
   "source": [
    "Dapat dilihat dari visualisasi diatas, bahwa terdapat hubungan negatif antara Price dan pie_sales, hal ini menunjukkan bahwa semakin nilai Price meningkat, maka nilai pie_sales pun semakin turun"
   ]
  },
  {
   "cell_type": "code",
   "execution_count": 10,
   "metadata": {},
   "outputs": [
    {
     "data": {
      "text/plain": [
       "LinearRegression(copy_X=True, fit_intercept=True, n_jobs=None,\n",
       "         normalize=False)"
      ]
     },
     "execution_count": 10,
     "metadata": {},
     "output_type": "execute_result"
    }
   ],
   "source": [
    "regr = linear_model.LinearRegression()\n",
    "regr.fit(Z, Y)"
   ]
  },
  {
   "cell_type": "code",
   "execution_count": 11,
   "metadata": {},
   "outputs": [
    {
     "data": {
      "image/png": "[encoded data removed]",
      "text/plain": [
       "<Figure size 432x288 with 1 Axes>"
      ]
     },
     "metadata": {
      "needs_background": "light"
     },
     "output_type": "display_data"
    }
   ],
   "source": [
    "# Advertising\n",
    "plt.scatter(Z, Y)\n",
    "plt.plot(Z, regr.predict(Z), color = \"green\")\n",
    "plt.xlabel(\"advertising\")\n",
    "plt.ylabel(\"pie_sales\")\n",
    "plt.show()"
   ]
  },
  {
   "cell_type": "markdown",
   "metadata": {},
   "source": [
    "Dapat dilihat dari visualisasi diatas, bahwa terdapat hubungan positif antara Advertising dan pie_sales, hal ini menunjukkan bahwa semakin nilai advertsing meningkat, maka nilai pie_sales pun semakin tinggi"
   ]
  },
  {
   "cell_type": "markdown",
   "metadata": {
    "id": "iVvGlw106ukZ"
   },
   "source": [
    "### **Regression using Sklearn**\n",
    "Proses ini akan membuat model regression dengan multiple linear dikarenakan terdapat lebih dari satu atribut yang berpengaruh, yaitu price dan advertising"
   ]
  },
  {
   "cell_type": "code",
   "execution_count": 12,
   "metadata": {
    "id": "-v0gXxZE5JvW"
   },
   "outputs": [],
   "source": [
    "X = df_house[['price','advertising']]\n",
    "Y = df_house['pie_sales']"
   ]
  },
  {
   "cell_type": "code",
   "execution_count": 13,
   "metadata": {
    "id": "Ig8RbR8q6uGP"
   },
   "outputs": [
    {
     "data": {
      "text/plain": [
       "LinearRegression(copy_X=True, fit_intercept=True, n_jobs=None,\n",
       "         normalize=False)"
      ]
     },
     "execution_count": 13,
     "metadata": {},
     "output_type": "execute_result"
    }
   ],
   "source": [
    "# with sklearn\n",
    "regr = linear_model.LinearRegression()\n",
    "regr.fit(X, Y)"
   ]
  },
  {
   "cell_type": "code",
   "execution_count": 14,
   "metadata": {
    "id": "lFcwDS_u66vg"
   },
   "outputs": [
    {
     "name": "stdout",
     "output_type": "stream",
     "text": [
      "Intercept: \n",
      " 306.5261932837436\n",
      "Coefficients: \n",
      " [-24.97508952  74.13095749]\n"
     ]
    }
   ],
   "source": [
    "print('Intercept: \\n', regr.intercept_)\n",
    "print('Coefficients: \\n', regr.coef_)"
   ]
  },
  {
   "cell_type": "markdown",
   "metadata": {},
   "source": [
    "Intercept adalah nilai rata-rata pada variabel Y apabila nilai pada variabel X bernilai 0. Sehingga, apabila X tidak memberikan kontribusi, maka secara rata-rata, variabel Y akan bernilai\n",
    "sebesar intercept <br>\n",
    "Coefficients adalah merupakan suatu nilai rata-rata yang berpeluang terjadi pada variabel Y"
   ]
  },
  {
   "cell_type": "code",
   "execution_count": 27,
   "metadata": {
    "id": "oKqYly0T6_Ga"
   },
   "outputs": [
    {
     "name": "stdout",
     "output_type": "stream",
     "text": [
      "Predicted  pie sales: \n",
      " [798.87918406]\n"
     ]
    }
   ],
   "source": [
    "# prediction with sklearn\n",
    "new_price = 7.0\n",
    "new_advertising = 9.0 \n",
    "print ('Predicted  pie sales: \\n', regr.predict([[new_price,new_advertising]]))"
   ]
  },
  {
   "cell_type": "markdown",
   "metadata": {},
   "source": [
    "Melakukan Prediksi untuk menunjukkan pengaruh nilai price dan advertising terhadap nilai pie_sales "
   ]
  },
  {
   "cell_type": "markdown",
   "metadata": {
    "id": "_AQT8GJx7wmp"
   },
   "source": [
    "### **Regression using Statsmodels**\n",
    "Statsmodels dan summary dari model yang telah dibuat"
   ]
  },
  {
   "cell_type": "code",
   "execution_count": 16,
   "metadata": {
    "id": "6lyeM3ad5iAC"
   },
   "outputs": [],
   "source": [
    "X = sm.add_constant(X) # adding a constant"
   ]
  },
  {
   "cell_type": "code",
   "execution_count": 17,
   "metadata": {
    "id": "MO49lxhi5gzH"
   },
   "outputs": [
    {
     "name": "stdout",
     "output_type": "stream",
     "text": [
      "                            OLS Regression Results                            \n",
      "==============================================================================\n",
      "Dep. Variable:              pie_sales   R-squared:                       0.521\n",
      "Model:                            OLS   Adj. R-squared:                  0.442\n",
      "Method:                 Least Squares   F-statistic:                     6.539\n",
      "Date:                Sat, 24 Oct 2020   Prob (F-statistic):             0.0120\n",
      "Time:                        02:28:26   Log-Likelihood:                -77.510\n",
      "No. Observations:                  15   AIC:                             161.0\n",
      "Df Residuals:                      12   BIC:                             163.1\n",
      "Df Model:                           2                                         \n",
      "Covariance Type:            nonrobust                                         \n",
      "===============================================================================\n",
      "                  coef    std err          t      P>|t|      [0.025      0.975]\n",
      "-------------------------------------------------------------------------------\n",
      "const         306.5262    114.254      2.683      0.020      57.588     555.464\n",
      "price         -24.9751     10.832     -2.306      0.040     -48.576      -1.374\n",
      "advertising    74.1310     25.967      2.855      0.014      17.553     130.709\n",
      "==============================================================================\n",
      "Omnibus:                        1.505   Durbin-Watson:                   1.683\n",
      "Prob(Omnibus):                  0.471   Jarque-Bera (JB):                0.937\n",
      "Skew:                           0.595   Prob(JB):                        0.626\n",
      "Kurtosis:                       2.709   Cond. No.                         72.2\n",
      "==============================================================================\n",
      "\n",
      "Warnings:\n",
      "[1] Standard Errors assume that the covariance matrix of the errors is correctly specified.\n"
     ]
    }
   ],
   "source": [
    "model = sm.OLS(Y, X).fit()\n",
    "predictions = model.predict(X) \n",
    "\n",
    "print_model = model.summary()\n",
    "print(print_model)"
   ]
  },
  {
   "cell_type": "code",
   "execution_count": null,
   "metadata": {},
   "outputs": [],
   "source": []
  }
 ],
 "metadata": {
  "colab": {
   "authorship_tag": "ABX9TyNJ1XZzm4mPa8wVQrCYRhD6",
   "include_colab_link": true,
   "name": "001_Regression",
   "provenance": []
  },
  "kernelspec": {
   "display_name": "Python 3",
   "language": "python",
   "name": "python3"
  },
  "language_info": {
   "codemirror_mode": {
    "name": "ipython",
    "version": 3
   },
   "file_extension": ".py",
   "mimetype": "text/x-python",
   "name": "python",
   "nbconvert_exporter": "python",
   "pygments_lexer": "ipython3",
   "version": "3.6.8"
  }
 },
 "nbformat": 4,
 "nbformat_minor": 1
}
